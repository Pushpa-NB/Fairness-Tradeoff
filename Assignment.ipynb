{
 "cells": [
  {
   "cell_type": "code",
   "execution_count": 315,
   "id": "08540501",
   "metadata": {},
   "outputs": [
    {
     "data": {
      "text/html": [
       "<div>\n",
       "<style scoped>\n",
       "    .dataframe tbody tr th:only-of-type {\n",
       "        vertical-align: middle;\n",
       "    }\n",
       "\n",
       "    .dataframe tbody tr th {\n",
       "        vertical-align: top;\n",
       "    }\n",
       "\n",
       "    .dataframe thead th {\n",
       "        text-align: right;\n",
       "    }\n",
       "</style>\n",
       "<table border=\"1\" class=\"dataframe\">\n",
       "  <thead>\n",
       "    <tr style=\"text-align: right;\">\n",
       "      <th></th>\n",
       "      <th>age</th>\n",
       "      <th>workclass</th>\n",
       "      <th>fnlwgt</th>\n",
       "      <th>education</th>\n",
       "      <th>education-num</th>\n",
       "      <th>marital-status</th>\n",
       "      <th>occupation</th>\n",
       "      <th>relationship</th>\n",
       "      <th>race</th>\n",
       "      <th>sex</th>\n",
       "      <th>capital-gain</th>\n",
       "      <th>capital-loss</th>\n",
       "      <th>hours-per-week</th>\n",
       "      <th>native-country</th>\n",
       "      <th>income</th>\n",
       "    </tr>\n",
       "  </thead>\n",
       "  <tbody>\n",
       "    <tr>\n",
       "      <th>0</th>\n",
       "      <td>50</td>\n",
       "      <td>Self-emp-not-inc</td>\n",
       "      <td>83311</td>\n",
       "      <td>Bachelors</td>\n",
       "      <td>13</td>\n",
       "      <td>Married-civ-spouse</td>\n",
       "      <td>Exec-managerial</td>\n",
       "      <td>Husband</td>\n",
       "      <td>White</td>\n",
       "      <td>Male</td>\n",
       "      <td>0</td>\n",
       "      <td>0</td>\n",
       "      <td>13</td>\n",
       "      <td>United-States</td>\n",
       "      <td>&lt;=50K</td>\n",
       "    </tr>\n",
       "    <tr>\n",
       "      <th>1</th>\n",
       "      <td>38</td>\n",
       "      <td>Private</td>\n",
       "      <td>215646</td>\n",
       "      <td>HS-grad</td>\n",
       "      <td>9</td>\n",
       "      <td>Divorced</td>\n",
       "      <td>Handlers-cleaners</td>\n",
       "      <td>Not-in-family</td>\n",
       "      <td>White</td>\n",
       "      <td>Male</td>\n",
       "      <td>0</td>\n",
       "      <td>0</td>\n",
       "      <td>40</td>\n",
       "      <td>United-States</td>\n",
       "      <td>&lt;=50K</td>\n",
       "    </tr>\n",
       "    <tr>\n",
       "      <th>2</th>\n",
       "      <td>53</td>\n",
       "      <td>Private</td>\n",
       "      <td>234721</td>\n",
       "      <td>11th</td>\n",
       "      <td>7</td>\n",
       "      <td>Married-civ-spouse</td>\n",
       "      <td>Handlers-cleaners</td>\n",
       "      <td>Husband</td>\n",
       "      <td>Black</td>\n",
       "      <td>Male</td>\n",
       "      <td>0</td>\n",
       "      <td>0</td>\n",
       "      <td>40</td>\n",
       "      <td>United-States</td>\n",
       "      <td>&lt;=50K</td>\n",
       "    </tr>\n",
       "    <tr>\n",
       "      <th>3</th>\n",
       "      <td>28</td>\n",
       "      <td>Private</td>\n",
       "      <td>338409</td>\n",
       "      <td>Bachelors</td>\n",
       "      <td>13</td>\n",
       "      <td>Married-civ-spouse</td>\n",
       "      <td>Prof-specialty</td>\n",
       "      <td>Wife</td>\n",
       "      <td>Black</td>\n",
       "      <td>Female</td>\n",
       "      <td>0</td>\n",
       "      <td>0</td>\n",
       "      <td>40</td>\n",
       "      <td>Cuba</td>\n",
       "      <td>&lt;=50K</td>\n",
       "    </tr>\n",
       "    <tr>\n",
       "      <th>4</th>\n",
       "      <td>37</td>\n",
       "      <td>Private</td>\n",
       "      <td>284582</td>\n",
       "      <td>Masters</td>\n",
       "      <td>14</td>\n",
       "      <td>Married-civ-spouse</td>\n",
       "      <td>Exec-managerial</td>\n",
       "      <td>Wife</td>\n",
       "      <td>White</td>\n",
       "      <td>Female</td>\n",
       "      <td>0</td>\n",
       "      <td>0</td>\n",
       "      <td>40</td>\n",
       "      <td>United-States</td>\n",
       "      <td>&lt;=50K</td>\n",
       "    </tr>\n",
       "  </tbody>\n",
       "</table>\n",
       "</div>"
      ],
      "text/plain": [
       "   age         workclass  fnlwgt  education  education-num  \\\n",
       "0   50  Self-emp-not-inc   83311  Bachelors             13   \n",
       "1   38           Private  215646    HS-grad              9   \n",
       "2   53           Private  234721       11th              7   \n",
       "3   28           Private  338409  Bachelors             13   \n",
       "4   37           Private  284582    Masters             14   \n",
       "\n",
       "       marital-status         occupation   relationship   race     sex  \\\n",
       "0  Married-civ-spouse    Exec-managerial        Husband  White    Male   \n",
       "1            Divorced  Handlers-cleaners  Not-in-family  White    Male   \n",
       "2  Married-civ-spouse  Handlers-cleaners        Husband  Black    Male   \n",
       "3  Married-civ-spouse     Prof-specialty           Wife  Black  Female   \n",
       "4  Married-civ-spouse    Exec-managerial           Wife  White  Female   \n",
       "\n",
       "   capital-gain  capital-loss  hours-per-week native-country income  \n",
       "0             0             0              13  United-States  <=50K  \n",
       "1             0             0              40  United-States  <=50K  \n",
       "2             0             0              40  United-States  <=50K  \n",
       "3             0             0              40           Cuba  <=50K  \n",
       "4             0             0              40  United-States  <=50K  "
      ]
     },
     "execution_count": 315,
     "metadata": {},
     "output_type": "execute_result"
    }
   ],
   "source": [
    "import pandas as pd,csv\n",
    "# # define the dataset location\n",
    "# filename2 = '/Users/pushpanb/Downloads/Second Sem/Machine Learning/bank/bank-full.csv'\n",
    "# #Open the file\n",
    "# data2 = open(filename2,'r')\n",
    "\n",
    "\n",
    "# df2 = pd.DataFrame(data=data2).T\n",
    "df = pd.read_excel (r'/Users/pushpanb/Downloads/Second Sem/Machine Learning/AdultData/Adult_data.xlsx')\n",
    "df.columns = ['age','workclass','fnlwgt','education','education-num','marital-status','occupation','relationship',\n",
    "             'race','sex','capital-gain','capital-loss','hours-per-week','native-country','income']\n",
    "\n",
    "\n",
    "            \n",
    "df.head()"
   ]
  },
  {
   "cell_type": "code",
   "execution_count": 316,
   "id": "41727308",
   "metadata": {},
   "outputs": [
    {
     "data": {
      "text/plain": [
       "<bound method IndexOpsMixin.tolist of Index(['age', 'workclass', 'fnlwgt', 'education', 'education-num',\n",
       "       'marital-status', 'occupation', 'relationship', 'race', 'sex',\n",
       "       'capital-gain', 'capital-loss', 'hours-per-week', 'native-country',\n",
       "       'income'],\n",
       "      dtype='object')>"
      ]
     },
     "execution_count": 316,
     "metadata": {},
     "output_type": "execute_result"
    }
   ],
   "source": [
    "df.columns.tolist"
   ]
  },
  {
   "cell_type": "code",
   "execution_count": 317,
   "id": "70d97ecb",
   "metadata": {},
   "outputs": [
    {
     "data": {
      "text/plain": [
       "<=50K    24719\n",
       ">50K      7841\n",
       "Name: income, dtype: int64"
      ]
     },
     "execution_count": 317,
     "metadata": {},
     "output_type": "execute_result"
    }
   ],
   "source": [
    "df['income'].value_counts()"
   ]
  },
  {
   "cell_type": "code",
   "execution_count": 318,
   "id": "8a8140c7",
   "metadata": {},
   "outputs": [
    {
     "name": "stdout",
     "output_type": "stream",
     "text": [
      "<class 'pandas.core.frame.DataFrame'>\n",
      "RangeIndex: 32560 entries, 0 to 32559\n",
      "Data columns (total 15 columns):\n",
      " #   Column          Non-Null Count  Dtype \n",
      "---  ------          --------------  ----- \n",
      " 0   age             32560 non-null  int64 \n",
      " 1   workclass       32560 non-null  object\n",
      " 2   fnlwgt          32560 non-null  int64 \n",
      " 3   education       32560 non-null  object\n",
      " 4   education-num   32560 non-null  int64 \n",
      " 5   marital-status  32560 non-null  object\n",
      " 6   occupation      32560 non-null  object\n",
      " 7   relationship    32560 non-null  object\n",
      " 8   race            32560 non-null  object\n",
      " 9   sex             32560 non-null  object\n",
      " 10  capital-gain    32560 non-null  int64 \n",
      " 11  capital-loss    32560 non-null  int64 \n",
      " 12  hours-per-week  32560 non-null  int64 \n",
      " 13  native-country  32560 non-null  object\n",
      " 14  income          32560 non-null  object\n",
      "dtypes: int64(6), object(9)\n",
      "memory usage: 3.7+ MB\n"
     ]
    }
   ],
   "source": [
    "df.info()\n",
    "#to find the null values in each columns"
   ]
  },
  {
   "cell_type": "code",
   "execution_count": 319,
   "id": "14efdb0d",
   "metadata": {},
   "outputs": [
    {
     "data": {
      "text/plain": [
       "age               0\n",
       "workclass         0\n",
       "fnlwgt            0\n",
       "education         0\n",
       "education-num     0\n",
       "marital-status    0\n",
       "occupation        0\n",
       "relationship      0\n",
       "race              0\n",
       "sex               0\n",
       "capital-gain      0\n",
       "capital-loss      0\n",
       "hours-per-week    0\n",
       "native-country    0\n",
       "income            0\n",
       "dtype: int64"
      ]
     },
     "execution_count": 319,
     "metadata": {},
     "output_type": "execute_result"
    }
   ],
   "source": [
    "df.isnull().sum()\n",
    "#to check the null values"
   ]
  },
  {
   "cell_type": "code",
   "execution_count": 320,
   "id": "7d05e8d1",
   "metadata": {},
   "outputs": [
    {
     "data": {
      "text/plain": [
       "array(['<=50K', '>50K'], dtype=object)"
      ]
     },
     "execution_count": 320,
     "metadata": {},
     "output_type": "execute_result"
    }
   ],
   "source": [
    "df['income'].unique()\n",
    "#checcking the unique value for a column\n"
   ]
  },
  {
   "cell_type": "code",
   "execution_count": 321,
   "id": "4d5fad49",
   "metadata": {},
   "outputs": [
    {
     "data": {
      "text/plain": [
       "<=50K    24719\n",
       ">50K      7841\n",
       "Name: income, dtype: int64"
      ]
     },
     "execution_count": 321,
     "metadata": {},
     "output_type": "execute_result"
    }
   ],
   "source": [
    "df['income'].value_counts()\n",
    "#to check the imbance of the response variable"
   ]
  },
  {
   "cell_type": "code",
   "execution_count": 322,
   "id": "ff067b38",
   "metadata": {},
   "outputs": [
    {
     "data": {
      "image/png": "[encoded data removed]",
      "text/plain": [
       "<Figure size 432x288 with 1 Axes>"
      ]
     },
     "metadata": {
      "needs_background": "light"
     },
     "output_type": "display_data"
    }
   ],
   "source": [
    "import seaborn as sns\n",
    "import matplotlib.pyplot as plot\n",
    "sns.countplot(x = 'income', data = df)\n",
    "plot.show()"
   ]
  },
  {
   "cell_type": "markdown",
   "id": "02d0ba4d",
   "metadata": {},
   "source": [
    "to fit the model we need to do the smort process "
   ]
  },
  {
   "cell_type": "code",
   "execution_count": 323,
   "id": "496259cb",
   "metadata": {},
   "outputs": [],
   "source": [
    "df.drop('fnlwgt', axis=1,inplace = True)\n",
    "#droping the dummy column"
   ]
  },
  {
   "cell_type": "code",
   "execution_count": 324,
   "id": "b0a76e29",
   "metadata": {},
   "outputs": [
    {
     "data": {
      "text/html": [
       "<div>\n",
       "<style scoped>\n",
       "    .dataframe tbody tr th:only-of-type {\n",
       "        vertical-align: middle;\n",
       "    }\n",
       "\n",
       "    .dataframe tbody tr th {\n",
       "        vertical-align: top;\n",
       "    }\n",
       "\n",
       "    .dataframe thead th {\n",
       "        text-align: right;\n",
       "    }\n",
       "</style>\n",
       "<table border=\"1\" class=\"dataframe\">\n",
       "  <thead>\n",
       "    <tr style=\"text-align: right;\">\n",
       "      <th></th>\n",
       "      <th>age</th>\n",
       "      <th>education-num</th>\n",
       "      <th>capital-gain</th>\n",
       "      <th>capital-loss</th>\n",
       "      <th>hours-per-week</th>\n",
       "    </tr>\n",
       "    <tr>\n",
       "      <th>income</th>\n",
       "      <th></th>\n",
       "      <th></th>\n",
       "      <th></th>\n",
       "      <th></th>\n",
       "      <th></th>\n",
       "    </tr>\n",
       "  </thead>\n",
       "  <tbody>\n",
       "    <tr>\n",
       "      <th>&lt;=50K</th>\n",
       "      <td>36.783648</td>\n",
       "      <td>9.594927</td>\n",
       "      <td>148.670537</td>\n",
       "      <td>53.145071</td>\n",
       "      <td>38.840163</td>\n",
       "    </tr>\n",
       "    <tr>\n",
       "      <th>&gt;50K</th>\n",
       "      <td>44.249841</td>\n",
       "      <td>11.611657</td>\n",
       "      <td>4006.142456</td>\n",
       "      <td>195.001530</td>\n",
       "      <td>45.473026</td>\n",
       "    </tr>\n",
       "  </tbody>\n",
       "</table>\n",
       "</div>"
      ],
      "text/plain": [
       "              age  education-num  capital-gain  capital-loss  hours-per-week\n",
       "income                                                                      \n",
       "<=50K   36.783648       9.594927    148.670537     53.145071       38.840163\n",
       ">50K    44.249841      11.611657   4006.142456    195.001530       45.473026"
      ]
     },
     "execution_count": 324,
     "metadata": {},
     "output_type": "execute_result"
    }
   ],
   "source": [
    "df.groupby('income').mean()"
   ]
  },
  {
   "cell_type": "markdown",
   "id": "0e7e09b3",
   "metadata": {},
   "source": [
    "Here we can see that age group below 36 has income less than or equal to 50K and age group more than 44 have avarerage income more than 50K"
   ]
  },
  {
   "cell_type": "code",
   "execution_count": 325,
   "id": "e4ad3385",
   "metadata": {},
   "outputs": [
    {
     "data": {
      "image/png": "[encoded data removed]",
      "text/plain": [
       "<Figure size 1800x720 with 1 Axes>"
      ]
     },
     "metadata": {
      "needs_background": "light"
     },
     "output_type": "display_data"
    }
   ],
   "source": [
    "# pd.plot(figsize=(10,16))\n",
    "pd.crosstab(df.age,df.income).plot(kind='bar',figsize=(25,10))\n",
    "plot.title('Income Frequency for Age')\n",
    "plot.xlabel('age')\n",
    "plot.ylabel('Frequency of Age')\n",
    "plot.show()"
   ]
  },
  {
   "cell_type": "code",
   "execution_count": 326,
   "id": "f99c5932",
   "metadata": {},
   "outputs": [
    {
     "data": {
      "text/plain": [
       "<AxesSubplot:>"
      ]
     },
     "execution_count": 326,
     "metadata": {},
     "output_type": "execute_result"
    },
    {
     "data": {
      "image/png": "[encoded data removed]",
      "text/plain": [
       "<Figure size 432x288 with 1 Axes>"
      ]
     },
     "metadata": {
      "needs_background": "light"
     },
     "output_type": "display_data"
    }
   ],
   "source": [
    "df.age.hist()"
   ]
  },
  {
   "cell_type": "code",
   "execution_count": 327,
   "id": "8f1477e8",
   "metadata": {},
   "outputs": [
    {
     "data": {
      "text/plain": [
       "object    9\n",
       "int64     5\n",
       "dtype: int64"
      ]
     },
     "execution_count": 327,
     "metadata": {},
     "output_type": "execute_result"
    }
   ],
   "source": [
    "df.dtypes.value_counts()"
   ]
  },
  {
   "cell_type": "code",
   "execution_count": 328,
   "id": "bacb0ab3",
   "metadata": {},
   "outputs": [],
   "source": [
    "# for i in df.columns.tolist():\n",
    "#     df[i] = df[i].astype('category').cat.codes\n",
    "#     #Encoding"
   ]
  },
  {
   "cell_type": "code",
   "execution_count": 329,
   "id": "76bbb6df",
   "metadata": {},
   "outputs": [
    {
     "data": {
      "text/plain": [
       "array(['Bachelors', 'HS-grad', '11th', 'Masters', '9th', 'Some-college',\n",
       "       'Assoc-acdm', 'Assoc-voc', '7th-8th', 'Doctorate', 'Prof-school',\n",
       "       '5th-6th', '10th', '1st-4th', 'Preschool', '12th'], dtype=object)"
      ]
     },
     "execution_count": 329,
     "metadata": {},
     "output_type": "execute_result"
    }
   ],
   "source": [
    "df.education.unique()"
   ]
  },
  {
   "cell_type": "code",
   "execution_count": 330,
   "id": "f7ee34c7",
   "metadata": {},
   "outputs": [],
   "source": [
    "df['education'] = df['education'].replace({'9th': 'primary'})"
   ]
  },
  {
   "cell_type": "code",
   "execution_count": 331,
   "id": "1ae6ed81",
   "metadata": {},
   "outputs": [],
   "source": [
    "list1 = [\"Preschool\",\"1st-4th\",\"5th-6th\",\"7th-8th\", \"9th\",\"10th\",\"11th\",\"12th\"]"
   ]
  },
  {
   "cell_type": "code",
   "execution_count": 332,
   "id": "9164d4c7",
   "metadata": {},
   "outputs": [],
   "source": [
    "for lit in list1:\n",
    "    df['education'] = df['education'].replace({lit: 'primary'})\n",
    "    "
   ]
  },
  {
   "cell_type": "code",
   "execution_count": 333,
   "id": "62b0868a",
   "metadata": {},
   "outputs": [
    {
     "data": {
      "text/plain": [
       "array(['Bachelors', 'HS-grad', 'primary', 'Masters', 'Some-college',\n",
       "       'Assoc-acdm', 'Assoc-voc', 'Doctorate', 'Prof-school'],\n",
       "      dtype=object)"
      ]
     },
     "execution_count": 333,
     "metadata": {},
     "output_type": "execute_result"
    }
   ],
   "source": [
    "df.education.unique()"
   ]
  },
  {
   "cell_type": "code",
   "execution_count": 334,
   "id": "aa6ebce0",
   "metadata": {},
   "outputs": [],
   "source": [
    "# ordinal encoding \n",
    "scale_mapper = {\"primary\":0, \"HS-grad\":1,\"Prof-school\":1,\n",
    "                 \"Assoc-acdm\":2, \"Assoc-voc\":2, \"Some-college\":2,\n",
    "                 \"Bachelors\":3, \"Masters\":4,\"Doctorate\":5}\n",
    "df[\"education\"] = df[\"education\"].replace(scale_mapper)"
   ]
  },
  {
   "cell_type": "code",
   "execution_count": 335,
   "id": "8f0450b4",
   "metadata": {},
   "outputs": [
    {
     "data": {
      "text/plain": [
       "1    11077\n",
       "2     9740\n",
       "3     5354\n",
       "0     4253\n",
       "4     1723\n",
       "5      413\n",
       "Name: education, dtype: int64"
      ]
     },
     "execution_count": 335,
     "metadata": {},
     "output_type": "execute_result"
    }
   ],
   "source": [
    "df.education.value_counts()"
   ]
  },
  {
   "cell_type": "code",
   "execution_count": 336,
   "id": "1dd74666",
   "metadata": {},
   "outputs": [
    {
     "data": {
      "text/plain": [
       "['age',\n",
       " 'workclass',\n",
       " 'education',\n",
       " 'education-num',\n",
       " 'marital-status',\n",
       " 'occupation',\n",
       " 'relationship',\n",
       " 'race',\n",
       " 'sex',\n",
       " 'capital-gain',\n",
       " 'capital-loss',\n",
       " 'hours-per-week',\n",
       " 'native-country',\n",
       " 'income']"
      ]
     },
     "execution_count": 336,
     "metadata": {},
     "output_type": "execute_result"
    }
   ],
   "source": [
    "df.columns.tolist()"
   ]
  },
  {
   "cell_type": "code",
   "execution_count": 337,
   "id": "045b8251",
   "metadata": {},
   "outputs": [],
   "source": [
    "#Label Encoding\n",
    "for i in df.columns.tolist():\n",
    "    if i == 'education':\n",
    "        pass\n",
    "    else:\n",
    "        df[i] = df[i].astype('category').cat.codes\n",
    "    \n",
    "    #Encoding"
   ]
  },
  {
   "cell_type": "code",
   "execution_count": 338,
   "id": "18457022",
   "metadata": {},
   "outputs": [
    {
     "data": {
      "text/plain": [
       "1    11077\n",
       "2     9740\n",
       "3     5354\n",
       "0     4253\n",
       "4     1723\n",
       "5      413\n",
       "Name: education, dtype: int64"
      ]
     },
     "execution_count": 338,
     "metadata": {},
     "output_type": "execute_result"
    }
   ],
   "source": [
    "df.education.value_counts()"
   ]
  },
  {
   "cell_type": "code",
   "execution_count": 339,
   "id": "50763a9a",
   "metadata": {},
   "outputs": [
    {
     "data": {
      "text/html": [
       "<div>\n",
       "<style scoped>\n",
       "    .dataframe tbody tr th:only-of-type {\n",
       "        vertical-align: middle;\n",
       "    }\n",
       "\n",
       "    .dataframe tbody tr th {\n",
       "        vertical-align: top;\n",
       "    }\n",
       "\n",
       "    .dataframe thead th {\n",
       "        text-align: right;\n",
       "    }\n",
       "</style>\n",
       "<table border=\"1\" class=\"dataframe\">\n",
       "  <thead>\n",
       "    <tr style=\"text-align: right;\">\n",
       "      <th></th>\n",
       "      <th>age</th>\n",
       "      <th>workclass</th>\n",
       "      <th>education</th>\n",
       "      <th>education-num</th>\n",
       "      <th>marital-status</th>\n",
       "      <th>occupation</th>\n",
       "      <th>relationship</th>\n",
       "      <th>race</th>\n",
       "      <th>sex</th>\n",
       "      <th>capital-gain</th>\n",
       "      <th>capital-loss</th>\n",
       "      <th>hours-per-week</th>\n",
       "      <th>native-country</th>\n",
       "      <th>income</th>\n",
       "    </tr>\n",
       "  </thead>\n",
       "  <tbody>\n",
       "    <tr>\n",
       "      <th>age</th>\n",
       "      <td>1.000000</td>\n",
       "      <td>0.003829</td>\n",
       "      <td>0.051133</td>\n",
       "      <td>0.036547</td>\n",
       "      <td>-0.266433</td>\n",
       "      <td>-0.020929</td>\n",
       "      <td>-0.263783</td>\n",
       "      <td>0.028751</td>\n",
       "      <td>0.088863</td>\n",
       "      <td>0.125916</td>\n",
       "      <td>0.065058</td>\n",
       "      <td>0.069123</td>\n",
       "      <td>-0.001145</td>\n",
       "      <td>0.234136</td>\n",
       "    </tr>\n",
       "    <tr>\n",
       "      <th>workclass</th>\n",
       "      <td>0.003829</td>\n",
       "      <td>1.000000</td>\n",
       "      <td>0.035792</td>\n",
       "      <td>0.052015</td>\n",
       "      <td>-0.064798</td>\n",
       "      <td>0.255004</td>\n",
       "      <td>-0.090449</td>\n",
       "      <td>0.049720</td>\n",
       "      <td>0.095942</td>\n",
       "      <td>0.029297</td>\n",
       "      <td>0.015630</td>\n",
       "      <td>0.139553</td>\n",
       "      <td>-0.007710</td>\n",
       "      <td>0.051645</td>\n",
       "    </tr>\n",
       "    <tr>\n",
       "      <th>education</th>\n",
       "      <td>0.051133</td>\n",
       "      <td>0.035792</td>\n",
       "      <td>1.000000</td>\n",
       "      <td>0.881079</td>\n",
       "      <td>-0.055179</td>\n",
       "      <td>0.091718</td>\n",
       "      <td>-0.088621</td>\n",
       "      <td>0.030662</td>\n",
       "      <td>0.001032</td>\n",
       "      <td>0.125091</td>\n",
       "      <td>0.074286</td>\n",
       "      <td>0.129302</td>\n",
       "      <td>0.010236</td>\n",
       "      <td>0.304344</td>\n",
       "    </tr>\n",
       "    <tr>\n",
       "      <th>education-num</th>\n",
       "      <td>0.036547</td>\n",
       "      <td>0.052015</td>\n",
       "      <td>0.881079</td>\n",
       "      <td>1.000000</td>\n",
       "      <td>-0.069338</td>\n",
       "      <td>0.109748</td>\n",
       "      <td>-0.094145</td>\n",
       "      <td>0.031825</td>\n",
       "      <td>0.012256</td>\n",
       "      <td>0.154387</td>\n",
       "      <td>0.084175</td>\n",
       "      <td>0.150098</td>\n",
       "      <td>0.050831</td>\n",
       "      <td>0.335182</td>\n",
       "    </tr>\n",
       "    <tr>\n",
       "      <th>marital-status</th>\n",
       "      <td>-0.266433</td>\n",
       "      <td>-0.064798</td>\n",
       "      <td>-0.055179</td>\n",
       "      <td>-0.069338</td>\n",
       "      <td>1.000000</td>\n",
       "      <td>-0.009617</td>\n",
       "      <td>0.185461</td>\n",
       "      <td>-0.068025</td>\n",
       "      <td>-0.129337</td>\n",
       "      <td>-0.075162</td>\n",
       "      <td>-0.035235</td>\n",
       "      <td>-0.192647</td>\n",
       "      <td>-0.023827</td>\n",
       "      <td>-0.199295</td>\n",
       "    </tr>\n",
       "    <tr>\n",
       "      <th>occupation</th>\n",
       "      <td>-0.020929</td>\n",
       "      <td>0.255004</td>\n",
       "      <td>0.091718</td>\n",
       "      <td>0.109748</td>\n",
       "      <td>-0.009617</td>\n",
       "      <td>1.000000</td>\n",
       "      <td>-0.075620</td>\n",
       "      <td>0.006779</td>\n",
       "      <td>0.080328</td>\n",
       "      <td>0.026285</td>\n",
       "      <td>0.017334</td>\n",
       "      <td>0.080622</td>\n",
       "      <td>-0.012532</td>\n",
       "      <td>0.075448</td>\n",
       "    </tr>\n",
       "    <tr>\n",
       "      <th>relationship</th>\n",
       "      <td>-0.263783</td>\n",
       "      <td>-0.090449</td>\n",
       "      <td>-0.088621</td>\n",
       "      <td>-0.094145</td>\n",
       "      <td>0.185461</td>\n",
       "      <td>-0.075620</td>\n",
       "      <td>1.000000</td>\n",
       "      <td>-0.116052</td>\n",
       "      <td>-0.582453</td>\n",
       "      <td>-0.093141</td>\n",
       "      <td>-0.064286</td>\n",
       "      <td>-0.251353</td>\n",
       "      <td>-0.005504</td>\n",
       "      <td>-0.250924</td>\n",
       "    </tr>\n",
       "    <tr>\n",
       "      <th>race</th>\n",
       "      <td>0.028751</td>\n",
       "      <td>0.049720</td>\n",
       "      <td>0.030662</td>\n",
       "      <td>0.031825</td>\n",
       "      <td>-0.068025</td>\n",
       "      <td>0.006779</td>\n",
       "      <td>-0.116052</td>\n",
       "      <td>1.000000</td>\n",
       "      <td>0.087197</td>\n",
       "      <td>0.024951</td>\n",
       "      <td>0.019366</td>\n",
       "      <td>0.042318</td>\n",
       "      <td>0.137849</td>\n",
       "      <td>0.071853</td>\n",
       "    </tr>\n",
       "    <tr>\n",
       "      <th>sex</th>\n",
       "      <td>0.088863</td>\n",
       "      <td>0.095942</td>\n",
       "      <td>0.001032</td>\n",
       "      <td>0.012256</td>\n",
       "      <td>-0.129337</td>\n",
       "      <td>0.080328</td>\n",
       "      <td>-0.582453</td>\n",
       "      <td>0.087197</td>\n",
       "      <td>1.000000</td>\n",
       "      <td>0.077573</td>\n",
       "      <td>0.049549</td>\n",
       "      <td>0.231357</td>\n",
       "      <td>-0.008125</td>\n",
       "      <td>0.215995</td>\n",
       "    </tr>\n",
       "    <tr>\n",
       "      <th>capital-gain</th>\n",
       "      <td>0.125916</td>\n",
       "      <td>0.029297</td>\n",
       "      <td>0.125091</td>\n",
       "      <td>0.154387</td>\n",
       "      <td>-0.075162</td>\n",
       "      <td>0.026285</td>\n",
       "      <td>-0.093141</td>\n",
       "      <td>0.024951</td>\n",
       "      <td>0.077573</td>\n",
       "      <td>1.000000</td>\n",
       "      <td>-0.056966</td>\n",
       "      <td>0.101367</td>\n",
       "      <td>0.006933</td>\n",
       "      <td>0.340034</td>\n",
       "    </tr>\n",
       "    <tr>\n",
       "      <th>capital-loss</th>\n",
       "      <td>0.065058</td>\n",
       "      <td>0.015630</td>\n",
       "      <td>0.074286</td>\n",
       "      <td>0.084175</td>\n",
       "      <td>-0.035235</td>\n",
       "      <td>0.017334</td>\n",
       "      <td>-0.064286</td>\n",
       "      <td>0.019366</td>\n",
       "      <td>0.049549</td>\n",
       "      <td>-0.056966</td>\n",
       "      <td>1.000000</td>\n",
       "      <td>0.058826</td>\n",
       "      <td>0.001370</td>\n",
       "      <td>0.162511</td>\n",
       "    </tr>\n",
       "    <tr>\n",
       "      <th>hours-per-week</th>\n",
       "      <td>0.069123</td>\n",
       "      <td>0.139553</td>\n",
       "      <td>0.129302</td>\n",
       "      <td>0.150098</td>\n",
       "      <td>-0.192647</td>\n",
       "      <td>0.080622</td>\n",
       "      <td>-0.251353</td>\n",
       "      <td>0.042318</td>\n",
       "      <td>0.231357</td>\n",
       "      <td>0.101367</td>\n",
       "      <td>0.058826</td>\n",
       "      <td>1.000000</td>\n",
       "      <td>-0.002760</td>\n",
       "      <td>0.232394</td>\n",
       "    </tr>\n",
       "    <tr>\n",
       "      <th>native-country</th>\n",
       "      <td>-0.001145</td>\n",
       "      <td>-0.007710</td>\n",
       "      <td>0.010236</td>\n",
       "      <td>0.050831</td>\n",
       "      <td>-0.023827</td>\n",
       "      <td>-0.012532</td>\n",
       "      <td>-0.005504</td>\n",
       "      <td>0.137849</td>\n",
       "      <td>-0.008125</td>\n",
       "      <td>0.006933</td>\n",
       "      <td>0.001370</td>\n",
       "      <td>-0.002760</td>\n",
       "      <td>1.000000</td>\n",
       "      <td>0.015845</td>\n",
       "    </tr>\n",
       "    <tr>\n",
       "      <th>income</th>\n",
       "      <td>0.234136</td>\n",
       "      <td>0.051645</td>\n",
       "      <td>0.304344</td>\n",
       "      <td>0.335182</td>\n",
       "      <td>-0.199295</td>\n",
       "      <td>0.075448</td>\n",
       "      <td>-0.250924</td>\n",
       "      <td>0.071853</td>\n",
       "      <td>0.215995</td>\n",
       "      <td>0.340034</td>\n",
       "      <td>0.162511</td>\n",
       "      <td>0.232394</td>\n",
       "      <td>0.015845</td>\n",
       "      <td>1.000000</td>\n",
       "    </tr>\n",
       "  </tbody>\n",
       "</table>\n",
       "</div>"
      ],
      "text/plain": [
       "                     age  workclass  education  education-num  marital-status  \\\n",
       "age             1.000000   0.003829   0.051133       0.036547       -0.266433   \n",
       "workclass       0.003829   1.000000   0.035792       0.052015       -0.064798   \n",
       "education       0.051133   0.035792   1.000000       0.881079       -0.055179   \n",
       "education-num   0.036547   0.052015   0.881079       1.000000       -0.069338   \n",
       "marital-status -0.266433  -0.064798  -0.055179      -0.069338        1.000000   \n",
       "occupation     -0.020929   0.255004   0.091718       0.109748       -0.009617   \n",
       "relationship   -0.263783  -0.090449  -0.088621      -0.094145        0.185461   \n",
       "race            0.028751   0.049720   0.030662       0.031825       -0.068025   \n",
       "sex             0.088863   0.095942   0.001032       0.012256       -0.129337   \n",
       "capital-gain    0.125916   0.029297   0.125091       0.154387       -0.075162   \n",
       "capital-loss    0.065058   0.015630   0.074286       0.084175       -0.035235   \n",
       "hours-per-week  0.069123   0.139553   0.129302       0.150098       -0.192647   \n",
       "native-country -0.001145  -0.007710   0.010236       0.050831       -0.023827   \n",
       "income          0.234136   0.051645   0.304344       0.335182       -0.199295   \n",
       "\n",
       "                occupation  relationship      race       sex  capital-gain  \\\n",
       "age              -0.020929     -0.263783  0.028751  0.088863      0.125916   \n",
       "workclass         0.255004     -0.090449  0.049720  0.095942      0.029297   \n",
       "education         0.091718     -0.088621  0.030662  0.001032      0.125091   \n",
       "education-num     0.109748     -0.094145  0.031825  0.012256      0.154387   \n",
       "marital-status   -0.009617      0.185461 -0.068025 -0.129337     -0.075162   \n",
       "occupation        1.000000     -0.075620  0.006779  0.080328      0.026285   \n",
       "relationship     -0.075620      1.000000 -0.116052 -0.582453     -0.093141   \n",
       "race              0.006779     -0.116052  1.000000  0.087197      0.024951   \n",
       "sex               0.080328     -0.582453  0.087197  1.000000      0.077573   \n",
       "capital-gain      0.026285     -0.093141  0.024951  0.077573      1.000000   \n",
       "capital-loss      0.017334     -0.064286  0.019366  0.049549     -0.056966   \n",
       "hours-per-week    0.080622     -0.251353  0.042318  0.231357      0.101367   \n",
       "native-country   -0.012532     -0.005504  0.137849 -0.008125      0.006933   \n",
       "income            0.075448     -0.250924  0.071853  0.215995      0.340034   \n",
       "\n",
       "                capital-loss  hours-per-week  native-country    income  \n",
       "age                 0.065058        0.069123       -0.001145  0.234136  \n",
       "workclass           0.015630        0.139553       -0.007710  0.051645  \n",
       "education           0.074286        0.129302        0.010236  0.304344  \n",
       "education-num       0.084175        0.150098        0.050831  0.335182  \n",
       "marital-status     -0.035235       -0.192647       -0.023827 -0.199295  \n",
       "occupation          0.017334        0.080622       -0.012532  0.075448  \n",
       "relationship       -0.064286       -0.251353       -0.005504 -0.250924  \n",
       "race                0.019366        0.042318        0.137849  0.071853  \n",
       "sex                 0.049549        0.231357       -0.008125  0.215995  \n",
       "capital-gain       -0.056966        0.101367        0.006933  0.340034  \n",
       "capital-loss        1.000000        0.058826        0.001370  0.162511  \n",
       "hours-per-week      0.058826        1.000000       -0.002760  0.232394  \n",
       "native-country      0.001370       -0.002760        1.000000  0.015845  \n",
       "income              0.162511        0.232394        0.015845  1.000000  "
      ]
     },
     "execution_count": 339,
     "metadata": {},
     "output_type": "execute_result"
    }
   ],
   "source": [
    "df.corr()"
   ]
  },
  {
   "cell_type": "code",
   "execution_count": 340,
   "id": "ce9d49db",
   "metadata": {},
   "outputs": [
    {
     "data": {
      "image/png": "[encoded data removed]",
      "text/plain": [
       "<Figure size 720x432 with 2 Axes>"
      ]
     },
     "metadata": {
      "needs_background": "light"
     },
     "output_type": "display_data"
    }
   ],
   "source": [
    "#visualize the correlation\n",
    "plot.figure(figsize = (10,6))\n",
    "sns.heatmap(df.corr(), annot = True,fmt='.0%' ,cmap = 'viridis')\n",
    "plot.title(\"Pearson Correlation\")\n",
    "plot.show()\n",
    "\n"
   ]
  },
  {
   "cell_type": "code",
   "execution_count": 341,
   "id": "26f7753c",
   "metadata": {},
   "outputs": [],
   "source": [
    "import statsmodels.api as sm\n",
    "from statsmodels.stats.outliers_influence import variance_inflation_factor\n",
    "x = df.iloc[:,:-1]\n",
    "x.columns\n",
    "y = df['income']\n",
    "\n",
    "#elimnating the income values and considering only features variables"
   ]
  },
  {
   "cell_type": "code",
   "execution_count": 342,
   "id": "646c79e3",
   "metadata": {},
   "outputs": [],
   "source": [
    "from sklearn import preprocessing\n",
    "# label_encoder object knows how to understand word labels.\n",
    "label_encoder = preprocessing.LabelEncoder()\n",
    "# Encode labels in column 'species'.\n",
    "y= label_encoder.fit_transform(y) \n"
   ]
  },
  {
   "cell_type": "code",
   "execution_count": 343,
   "id": "afba5595",
   "metadata": {},
   "outputs": [
    {
     "name": "stdout",
     "output_type": "stream",
     "text": [
      "           feature        VIF\n",
      "0              age   3.691873\n",
      "1        workclass   8.466753\n",
      "2        education  13.374335\n",
      "3    education-num  50.372875\n",
      "4   marital-status   4.014065\n",
      "5       occupation   3.697318\n",
      "6     relationship   2.664314\n",
      "7             race  17.245690\n",
      "8              sex   4.454518\n",
      "9     capital-gain   1.132226\n",
      "10    capital-loss   1.063069\n",
      "11  hours-per-week  11.860856\n",
      "12  native-country  19.880354\n"
     ]
    }
   ],
   "source": [
    "# VIF dataframe\n",
    "vif_data = pd.DataFrame()\n",
    "vif_data[\"feature\"] = x.columns\n",
    "  \n",
    "# calculating VIF for each feature\n",
    "vif_data[\"VIF\"] = [variance_inflation_factor(x.values, i)\n",
    "                          for i in range(len(x.columns))]\n",
    "  \n",
    "print(vif_data)"
   ]
  },
  {
   "cell_type": "code",
   "execution_count": 344,
   "id": "b2999b53",
   "metadata": {},
   "outputs": [],
   "source": [
    "x.drop('education-num', axis=1,inplace = True)"
   ]
  },
  {
   "cell_type": "code",
   "execution_count": 345,
   "id": "4552611b",
   "metadata": {},
   "outputs": [
    {
     "name": "stdout",
     "output_type": "stream",
     "text": [
      "           feature        VIF\n",
      "0              age   3.651458\n",
      "1        workclass   8.349267\n",
      "2        education   3.408691\n",
      "3   marital-status   3.942795\n",
      "4       occupation   3.669883\n",
      "5     relationship   2.593547\n",
      "6             race  16.600746\n",
      "7              sex   4.408007\n",
      "8     capital-gain   1.127415\n",
      "9     capital-loss   1.062049\n",
      "10  hours-per-week  11.272513\n",
      "11  native-country  17.867519\n"
     ]
    }
   ],
   "source": [
    "vif_data = pd.DataFrame()\n",
    "vif_data[\"feature\"] = x.columns\n",
    "  \n",
    "# calculating VIF for each feature\n",
    "vif_data[\"VIF\"] = [variance_inflation_factor(x.values, i)\n",
    "                          for i in range(len(x.columns))]\n",
    "  \n",
    "print(vif_data)"
   ]
  },
  {
   "cell_type": "code",
   "execution_count": 346,
   "id": "37f5a54d",
   "metadata": {},
   "outputs": [],
   "source": [
    "import sklearn as sk\n",
    "from sklearn import metrics\n",
    "from sklearn.linear_model import Perceptron\n",
    "from sklearn.model_selection import train_test_split\n",
    "X_train, X_test, y_train, y_test=train_test_split(x,y,test_size=0.30,random_state=123)\n"
   ]
  },
  {
   "cell_type": "code",
   "execution_count": 33,
   "id": "aab105b1",
   "metadata": {
    "scrolled": true
   },
   "outputs": [
    {
     "name": "stdout",
     "output_type": "stream",
     "text": [
      "tuned hpyerparameters :(best parameters)  {'C': 3, 'max_iter': 2500, 'solver': 'lbfgs'}\n",
      "accuracy : 0.8171286783463383\n"
     ]
    }
   ],
   "source": [
    "# Grid search cross validation\n",
    "from sklearn.model_selection import GridSearchCV\n",
    "from sklearn.linear_model import LogisticRegression\n",
    "grid=[{\"C\":[1,2,3], \"solver\" : ['newton-cg', 'lbfgs', 'liblinear', 'sag', 'saga'],\n",
    "      \"max_iter\" : [2500,5000]}]# l1 lasso l2 ridge\n",
    "# grid=[{\"solver\" : ['newton-cg', 'lbfgs', 'liblinear', 'sag', 'saga'],\n",
    "#       \"max_iter\" : [2500,5000]}]# l1 lasso l2 ridge\n",
    "LR=LogisticRegression()\n",
    "LR_cv=GridSearchCV(LR,grid,cv=5)\n",
    "LR_cv.fit(train_features,train_targets)\n",
    "\n",
    "print(\"tuned hpyerparameters :(best parameters) \",LR_cv.best_params_)\n",
    "print(\"accuracy :\",LR_cv.best_score_)"
   ]
  },
  {
   "cell_type": "code",
   "execution_count": 35,
   "id": "50312631",
   "metadata": {
    "scrolled": true
   },
   "outputs": [
    {
     "name": "stdout",
     "output_type": "stream",
     "text": [
      "Iteration 1, loss = 0.83391051\n",
      "Iteration 2, loss = 0.55349666\n",
      "Iteration 3, loss = 0.55349309\n",
      "Iteration 4, loss = 0.55349057\n",
      "Iteration 5, loss = 0.55348854\n",
      "Iteration 6, loss = 0.55348674\n",
      "Iteration 7, loss = 0.55348512\n",
      "Iteration 8, loss = 0.55348363\n",
      "Iteration 9, loss = 0.55348229\n",
      "Iteration 10, loss = 0.55348108\n",
      "Iteration 11, loss = 0.55347993\n",
      "Iteration 12, loss = 0.55347884\n",
      "Iteration 13, loss = 0.55347783\n",
      "Training loss did not improve more than tol=0.000100 for 10 consecutive epochs. Stopping.\n"
     ]
    },
    {
     "data": {
      "text/plain": [
       "MLPClassifier(hidden_layer_sizes=(6, 5), learning_rate='invscaling',\n",
       "              learning_rate_init=0.01, max_iter=35, random_state=762,\n",
       "              solver='sgd', verbose=True)"
      ]
     },
     "execution_count": 35,
     "metadata": {},
     "output_type": "execute_result"
    }
   ],
   "source": [
    "# Import MLPClassifer \n",
    "from sklearn.neural_network import MLPClassifier\n",
    "\n",
    "# Create model object\n",
    "clf = MLPClassifier(hidden_layer_sizes=(6,5),\n",
    "                    max_iter = 35,\n",
    "                    activation='relu',\n",
    "                    solver ='sgd',\n",
    "                    random_state=762,\n",
    "                    verbose=True,\n",
    "                    learning_rate = 'invscaling',\n",
    "                    learning_rate_init=0.01)\n",
    "\n",
    "# Fit data onto the model\n",
    "clf.fit(train_features,train_targets)\n"
   ]
  },
  {
   "cell_type": "code",
   "execution_count": 36,
   "id": "dba3189b",
   "metadata": {},
   "outputs": [
    {
     "name": "stdout",
     "output_type": "stream",
     "text": [
      "Mean accuracy of predictions:0.76\n"
     ]
    }
   ],
   "source": [
    "# Import accuracy score \n",
    "from sklearn.metrics import accuracy_score\n",
    "import numpy as np\n",
    "# Make prediction on test dataset\n",
    "prediction=clf.predict(X_test)\n",
    "score = np.round(metrics.accuracy_score(y_test,prediction),2)\n",
    "print(\"Mean accuracy of predictions:\" +str(score))\n",
    "# Calcuate accuracy\n",
    "# accuracy_score(y_test,ypred)"
   ]
  },
  {
   "cell_type": "code",
   "execution_count": 38,
   "id": "c28787c6",
   "metadata": {},
   "outputs": [
    {
     "name": "stdout",
     "output_type": "stream",
     "text": [
      "Feature matrix: (22792, 12)\n",
      "Target matrix: (9768, 12)\n",
      "Feature matrix: (22792,)\n",
      "Target matrix: (9768,)\n"
     ]
    }
   ],
   "source": [
    "print(\"Feature matrix:\", X_train.shape)\n",
    "print(\"Target matrix:\",X_test.shape)\n",
    "print(\"Feature matrix:\", y_train.shape)\n",
    "print(\"Target matrix:\", y_test.shape)"
   ]
  },
  {
   "cell_type": "code",
   "execution_count": 39,
   "id": "88e19754",
   "metadata": {},
   "outputs": [],
   "source": [
    "from sklearn.linear_model import LogisticRegression\n",
    "from sklearn.decomposition import PCA\n",
    "from sklearn.ensemble import ExtraTreesClassifier\n",
    "\n",
    "\n",
    "import matplotlib.pyplot as plt\n",
    "from pandas.plotting import scatter_matrix\n",
    "\n",
    "from sklearn.model_selection import train_test_split\n",
    "from sklearn.linear_model import LogisticRegression\n",
    "from sklearn.tree import DecisionTreeClassifier\n",
    "from sklearn.neighbors import KNeighborsClassifier\n",
    "from sklearn.discriminant_analysis import LinearDiscriminantAnalysis\n",
    "from sklearn.naive_bayes import GaussianNB\n",
    "from sklearn.svm import SVC\n",
    "from sklearn.svm import LinearSVC\n",
    "from sklearn.linear_model import SGDClassifier\n",
    "from sklearn.metrics import accuracy_score\n",
    "from sklearn.metrics import mean_squared_error\n",
    "\n"
   ]
  },
  {
   "cell_type": "code",
   "execution_count": 40,
   "id": "8cdce7c9",
   "metadata": {},
   "outputs": [
    {
     "name": "stderr",
     "output_type": "stream",
     "text": [
      "/Users/pushpanb/anaconda3/lib/python3.8/site-packages/sklearn/linear_model/_logistic.py:763: ConvergenceWarning: lbfgs failed to converge (status=1):\n",
      "STOP: TOTAL NO. of ITERATIONS REACHED LIMIT.\n",
      "\n",
      "Increase the number of iterations (max_iter) or scale the data as shown in:\n",
      "    https://scikit-learn.org/stable/modules/preprocessing.html\n",
      "Please also refer to the documentation for alternative solver options:\n",
      "    https://scikit-learn.org/stable/modules/linear_model.html#logistic-regression\n",
      "  n_iter_i = _check_optimize_result(\n"
     ]
    },
    {
     "name": "stdout",
     "output_type": "stream",
     "text": [
      "LR: 0.820639 (0.179361)\n",
      "LDA: 0.823608 (0.176392)\n",
      "KNN: 0.827396 (0.172604)\n",
      "CART: 0.816134 (0.183866)\n",
      "NB: 0.820332 (0.179668)\n",
      "SVM: 0.819615 (0.180385)\n"
     ]
    },
    {
     "name": "stderr",
     "output_type": "stream",
     "text": [
      "/Users/pushpanb/anaconda3/lib/python3.8/site-packages/sklearn/svm/_base.py:985: ConvergenceWarning: Liblinear failed to converge, increase the number of iterations.\n",
      "  warnings.warn(\"Liblinear failed to converge, increase \"\n"
     ]
    },
    {
     "name": "stdout",
     "output_type": "stream",
     "text": [
      "L_SVM: 0.789926 (0.210074)\n",
      "SGDC: 0.811118 (0.188882)\n"
     ]
    }
   ],
   "source": [
    "num_instances = len(x)\n",
    "\n",
    "models = []\n",
    "models.append(('LR', LogisticRegression()))\n",
    "models.append(('LDA', LinearDiscriminantAnalysis()))\n",
    "models.append(('KNN', KNeighborsClassifier()))\n",
    "models.append(('CART', DecisionTreeClassifier()))\n",
    "models.append(('NB', GaussianNB()))\n",
    "models.append(('SVM', SVC()))\n",
    "models.append(('L_SVM', LinearSVC()))\n",
    "models.append(('SGDC', SGDClassifier()))\n",
    "\n",
    "# Evaluations\n",
    "results = []\n",
    "names = []\n",
    "\n",
    "for name, model in models:\n",
    "    # Fit the model\n",
    "    model.fit(train_features,train_targets)\n",
    "    \n",
    "    predictions = model.predict(test_features)\n",
    "    \n",
    "    # Evaluate the model\n",
    "    score = accuracy_score(test_targets, predictions)\n",
    "    mse = mean_squared_error(predictions, test_targets)\n",
    "    # print(\"%s: %.2f%%\" % (model.metrics_names[1], scores[1]*100))\n",
    "    results.append(mse)\n",
    "    names.append(name)\n",
    "    \n",
    "    msg = \"%s: %f (%f)\" % (name, score, mse)\n",
    "    print(msg)\n",
    "    "
   ]
  },
  {
   "cell_type": "markdown",
   "id": "674b8f81",
   "metadata": {},
   "source": [
    "### K fold cross validation"
   ]
  },
  {
   "cell_type": "code",
   "execution_count": 41,
   "id": "db0db925",
   "metadata": {},
   "outputs": [],
   "source": [
    "import numpy as np\n",
    "from sklearn.model_selection import train_test_split\n",
    "from sklearn import datasets\n",
    "from sklearn import svm"
   ]
  },
  {
   "cell_type": "code",
   "execution_count": 96,
   "id": "e8458b36",
   "metadata": {},
   "outputs": [
    {
     "name": "stdout",
     "output_type": "stream",
     "text": [
      "Accuracy: 0.816 (0.006)\n"
     ]
    }
   ],
   "source": [
    "# evaluate a logistic regression model using k-fold cross-validation\n",
    "from numpy import mean\n",
    "from numpy import std\n",
    "from sklearn.datasets import make_classification\n",
    "from sklearn.model_selection import KFold\n",
    "from sklearn.model_selection import cross_val_score\n",
    "from sklearn.linear_model import LogisticRegression\n",
    "# # create dataset\n",
    "# X, y = make_classification(n_samples=1000, n_features=20, n_informative=15, n_redundant=5, random_state=1)\n",
    "# prepare the cross-validation procedure\n",
    "cv = KFold(n_splits=10, random_state=1, shuffle=True)\n",
    "# create model\n",
    "model = LogisticRegression()\n",
    "# evaluate model\n",
    "scores = cross_val_score(model, x, y, scoring='accuracy', cv=cv, n_jobs=-1)\n",
    "# report performance\n",
    "print('Accuracy: %.3f (%.3f)' % (mean(scores), std(scores)))"
   ]
  },
  {
   "cell_type": "code",
   "execution_count": 45,
   "id": "b0e33132",
   "metadata": {},
   "outputs": [
    {
     "name": "stdout",
     "output_type": "stream",
     "text": [
      "Mean Accuracy: 0.740\n",
      "Config: {'max_iter': 1}\n",
      ">0.740 with: {'max_iter': 1}\n",
      ">0.728 with: {'max_iter': 10}\n",
      ">0.728 with: {'max_iter': 100}\n",
      ">0.728 with: {'max_iter': 1000}\n",
      ">0.728 with: {'max_iter': 10000}\n"
     ]
    },
    {
     "name": "stderr",
     "output_type": "stream",
     "text": [
      "/Users/pushpanb/anaconda3/lib/python3.8/site-packages/sklearn/linear_model/_stochastic_gradient.py:574: ConvergenceWarning: Maximum number of iteration reached before convergence. Consider increasing max_iter to improve the fit.\n",
      "  warnings.warn(\"Maximum number of iteration reached before \"\n"
     ]
    }
   ],
   "source": [
    "# grid search total epochs for the perceptron\n",
    "from sklearn.datasets import make_classification\n",
    "from sklearn.model_selection import GridSearchCV\n",
    "from sklearn.model_selection import RepeatedStratifiedKFold\n",
    "from sklearn.linear_model import Perceptron\n",
    "# define dataset\n",
    "# X, y = make_classification(n_samples=1000, n_features=10, n_informative=10, n_redundant=0, random_state=1)\n",
    "# define model\n",
    "model = Perceptron(eta0=0.0001)\n",
    "# define model evaluation method\n",
    "cv = RepeatedStratifiedKFold(n_splits=10, n_repeats=3, random_state=1)\n",
    "# define grid\n",
    "grid = dict()\n",
    "grid['max_iter'] = [1, 10, 100, 1000, 10000]\n",
    "# define search\n",
    "search = GridSearchCV(model, grid, scoring='accuracy', cv=cv, n_jobs=-1)\n",
    "# perform the search\n",
    "results = search.fit(train_features, train_targets)\n",
    "# summarize\n",
    "print('Mean Accuracy: %.3f' % results.best_score_)\n",
    "print('Config: %s' % results.best_params_)\n",
    "# summarize all\n",
    "means = results.cv_results_['mean_test_score']\n",
    "params = results.cv_results_['params']\n",
    "for mean, param in zip(means, params):\n",
    "    print(\">%.3f with: %r\" % (mean, param))"
   ]
  },
  {
   "cell_type": "code",
   "execution_count": 347,
   "id": "c5a88d93",
   "metadata": {},
   "outputs": [],
   "source": [
    "#Code written by V Sharmanska. All rights reserved.\n",
    "#STEP 1: Import the AIF360 library and set the random seed.\n",
    "import numpy as np\n",
    "from aif360.datasets import AdultDataset\n",
    "from aif360.algorithms.preprocessing.optim_preproc_helpers.data_preproc_functions import load_preproc_data_adult\n",
    "from aif360.metrics import ClassificationMetric\n",
    "from aif360.algorithms.preprocessing.reweighing import Reweighing\n",
    "import pdb\n",
    "from sklearn.preprocessing import StandardScaler  #MinMaxScaler\n",
    "from sklearn.linear_model import LogisticRegression\n",
    "from sklearn.model_selection import *\n",
    "\n",
    "np.random.seed(0)"
   ]
  },
  {
   "cell_type": "code",
   "execution_count": 348,
   "id": "1dba09ba",
   "metadata": {},
   "outputs": [
    {
     "name": "stdout",
     "output_type": "stream",
     "text": [
      "training data size (34189, 18)\n",
      "dataset feature names ['race', 'sex', 'Age (decade)=10', 'Age (decade)=20', 'Age (decade)=30', 'Age (decade)=40', 'Age (decade)=50', 'Age (decade)=60', 'Age (decade)=>=70', 'Education Years=6', 'Education Years=7', 'Education Years=8', 'Education Years=9', 'Education Years=10', 'Education Years=11', 'Education Years=12', 'Education Years=<6', 'Education Years=>12']\n"
     ]
    }
   ],
   "source": [
    "#STEP 2: We define where's the bias in the features of our dataset.\n",
    "\n",
    "privileged_groups = [{'sex': 1}]\n",
    "unprivileged_groups = [{'sex': 0}]\n",
    "dataset_orig = load_preproc_data_adult(['sex'])\n",
    "\n",
    "\n",
    "#STEP 3: We split between training and test set.\n",
    "train, test = dataset_orig.split([0.7], shuffle=True)\n",
    "print(\"training data size\", train.features.shape)\n",
    "print(\"dataset feature names\", train.feature_names)\n",
    "\n",
    "#Normalize the dataset, both train and test. This should always be done in any machine learning pipeline!\n",
    "scale_orig = StandardScaler()\n",
    "X_train = scale_orig.fit_transform(train.features)\n",
    "y_train = train.labels\n",
    "\n",
    "X_test = scale_orig.transform(test.features) \n",
    "y_test = test.labels.ravel()"
   ]
  },
  {
   "cell_type": "code",
   "execution_count": 350,
   "id": "8bdd05e3",
   "metadata": {},
   "outputs": [
    {
     "name": "stdout",
     "output_type": "stream",
     "text": [
      "Accuracy 0.8042039172865625\n",
      "{'stat_par_diff': -0.20557244174265452, 'eq_opp_diff': -0.4414141414141414, 'avg_odds_diff': -0.27273605621431707, 'bal_acc': 0.657262071666589, 'disp_imp': 0.0}\n"
     ]
    }
   ],
   "source": [
    "#We use a simple Logistic Regression to parametrise our classifier. \n",
    "#You can try different classifiers and hyperparameters, checking how the metrics will change.\n",
    "\n",
    "learner = LogisticRegression(solver='liblinear', random_state=1)  \n",
    "learner.fit(X_train,y_train.ravel())\n",
    "predictions = learner.predict(X_test)\n",
    "\n",
    "test_pred = test.copy()\n",
    "test_pred.labels = predictions\n",
    "print(\"Accuracy\", sum(predictions==y_test)/len(y_test))\n",
    "metric = ClassificationMetric(test, test_pred, unprivileged_groups=unprivileged_groups, privileged_groups=privileged_groups)\n",
    "metric_arrs = {}\n",
    "metric_arrs['stat_par_diff']=(metric.statistical_parity_difference())\n",
    "metric_arrs['eq_opp_diff']=(metric.equal_opportunity_difference())\n",
    "metric_arrs['avg_odds_diff']=(metric.average_odds_difference())\n",
    "metric_arrs['bal_acc']=((metric.true_positive_rate() + metric.true_negative_rate()) / 2)\n",
    "metric_arrs['disp_imp']=(metric.disparate_impact())\n",
    "print(metric_arrs)\n"
   ]
  },
  {
   "cell_type": "code",
   "execution_count": 357,
   "id": "8cc3f5d5",
   "metadata": {
    "scrolled": true
   },
   "outputs": [
    {
     "name": "stdout",
     "output_type": "stream",
     "text": [
      "Accuracy [0.24173735 0.24173735 0.24173735 ... 0.75826265 0.75826265 0.24173735] c-value: 1.0 max_iter : 500\n",
      "Mean Accuracy: 0.805 (0.004)\n",
      "{'stat_par_diff': -0.22672872340425532, 'eq_opp_diff': -0.470203488372093, 'avg_odds_diff': -0.2950507237778832, 'bal_acc': 0.6594463413880026, 'disp_imp': 0.0}\n",
      "Accuracy [0.76162621 0.76162621 0.76162621 ... 0.76162621 0.76162621 0.76162621] c-value: 100000.0 max_iter : 1000\n",
      "Mean Accuracy: 0.804 (0.007)\n",
      "{'stat_par_diff': -0.21979938944614041, 'eq_opp_diff': -0.4654676258992806, 'avg_odds_diff': -0.28921065900721227, 'bal_acc': 0.6638080395427516, 'disp_imp': 0.0}\n",
      "Accuracy [0.23427903 0.76572097 0.76572097 ... 0.76572097 0.76572097 0.76572097] c-value: 0.001 max_iter : 2500\n",
      "Mean Accuracy: 0.802 (0.006)\n",
      "{'stat_par_diff': -0.2099737532808399, 'eq_opp_diff': -0.46691176470588236, 'avg_odds_diff': -0.2840474141088565, 'bal_acc': 0.6671546214672454, 'disp_imp': 0.0}\n",
      "Accuracy [0.75636151 0.24363849 0.75636151 ... 0.75636151 0.75636151 0.75636151] c-value: 1e-06 max_iter : 3500\n",
      "Mean Accuracy: 0.795 (0.005)\n",
      "{'stat_par_diff': -0.15192349262416927, 'eq_opp_diff': -0.23946334802134217, 'avg_odds_diff': -0.14924445167831013, 'bal_acc': 0.6773068856312827, 'disp_imp': 0.35734396881624525}\n",
      "Accuracy [0.75515577 0.75515577 0.75515577 ... 0.75515577 0.75515577 0.75515577] c-value: 10 max_iter : 5000\n",
      "Mean Accuracy: 0.804 (0.006)\n",
      "{'stat_par_diff': -0.21332450915508494, 'eq_opp_diff': -0.4641080312722104, 'avg_odds_diff': -0.28227794397903544, 'bal_acc': 0.6646331388838558, 'disp_imp': 0.0}\n"
     ]
    }
   ],
   "source": [
    "from sklearn.linear_model import LogisticRegression\n",
    "from sklearn.model_selection import KFold\n",
    "kf = KFold(n_splits=5, random_state=None, shuffle=False)\n",
    "\n",
    "i=0\n",
    "c = [1.0, 100000., 0.001, 0.000001,10]\n",
    "max_iter = [ 500,1000,2500,3500,5000 ]\n",
    "# penalty = ['l1', 'l2', 'elasticnet', 'none']\n",
    "# enumerate splits\n",
    "x_train_np = np.array(X_train)\n",
    "y_train_np = np.array(y_train)\n",
    "for train_ix, test_ix in kf.split(X_train):\n",
    "    x_tr, x_test = x_train_np[train_ix], x_train_np[test_ix]\n",
    "    y_tr, y_test = y_train_np[train_ix], y_train_np[test_ix]\n",
    "    model = LogisticRegression(solver='liblinear', random_state=1,max_iter = max_iter[i], C = c[i])\n",
    "    model.fit(x_tr, y_tr.ravel())\n",
    "    preds = model.predict(x_test)\n",
    "    test_pred = train.copy().subset(test_ix)\n",
    "    test_pred.labels = preds\n",
    "#     results = a accuracy_score(y_true, y_pred, normalize=False)\n",
    "    print(\"Accuracy\", sum(preds==y_test)/len(y_test),\"c-value:\",c[i], \"max_iter :\" ,max_iter[i] )\n",
    "    scores = cross_val_score(model, x_tr, y_tr.ravel(), scoring='accuracy', cv=kf, n_jobs=-1)\n",
    "    print('Mean Accuracy: %.3f (%.3f)' % (mean(scores), std(scores)))\n",
    "    metric = ClassificationMetric(train.subset(test_ix), test_pred, unprivileged_groups=unprivileged_groups, privileged_groups=privileged_groups)\n",
    "    metric_arrs = {}\n",
    "    metric_arrs['stat_par_diff']=(metric.statistical_parity_difference())\n",
    "    metric_arrs['eq_opp_diff']=(metric.equal_opportunity_difference())\n",
    "    metric_arrs['avg_odds_diff']=(metric.average_odds_difference())\n",
    "    metric_arrs['bal_acc']=((metric.true_positive_rate() + metric.true_negative_rate()) / 2)\n",
    "    metric_arrs['disp_imp']=(metric.disparate_impact())\n",
    "    print(metric_arrs)\n",
    "    i+=1"
   ]
  },
  {
   "cell_type": "code",
   "execution_count": 366,
   "id": "c534cc3e",
   "metadata": {},
   "outputs": [
    {
     "name": "stdout",
     "output_type": "stream",
     "text": [
      "Accuracy [0.75515577 0.24484423 0.75515577 ... 0.24484423 0.75515577 0.24484423]\n",
      "Mean Accuracy: 0.819 (0.006)\n",
      "{'stat_par_diff': -0.20557244174265452, 'eq_opp_diff': -0.4414141414141414, 'avg_odds_diff': -0.27273605621431707, 'bal_acc': 0.657262071666589, 'disp_imp': 0.0}\n"
     ]
    }
   ],
   "source": [
    "# learner = LogisticRegression(solver='liblinear', random_state=1, max_iter = 5000, C = 10)  \n",
    "#We use a simple Logistic Regression to parametrise our classifier. \n",
    "#You can try different classifiers and hyperparameters, checking how the metrics will change.\n",
    "\n",
    "learner = LogisticRegression(solver='liblinear', random_state=1, max_iter = 5000, C = 10)  \n",
    "learner.fit(X_train,y_train.ravel())\n",
    "predictions = learner.predict(X_test)\n",
    "\n",
    "test_pred = test.copy()\n",
    "test_pred.labels = predictions\n",
    "print(\"Accuracy\", sum(predictions==y_test)/len(y_test))\n",
    "scores = cross_val_score(learner, x, y, scoring='accuracy', cv=cv, n_jobs=-1)\n",
    "print('Mean Accuracy: %.3f (%.3f)' % (mean(scores), std(scores)))\n",
    "metric = ClassificationMetric(test, test_pred, unprivileged_groups=unprivileged_groups, privileged_groups=privileged_groups)\n",
    "metric_arrs = {}\n",
    "metric_arrs['stat_par_diff']=(metric.statistical_parity_difference())\n",
    "metric_arrs['eq_opp_diff']=(metric.equal_opportunity_difference())\n",
    "metric_arrs['avg_odds_diff']=(metric.average_odds_difference())\n",
    "metric_arrs['bal_acc']=((metric.true_positive_rate() + metric.true_negative_rate()) / 2)\n",
    "metric_arrs['disp_imp']=(metric.disparate_impact())\n",
    "print(metric_arrs)"
   ]
  },
  {
   "cell_type": "code",
   "execution_count": 369,
   "id": "0dc54b39",
   "metadata": {},
   "outputs": [
    {
     "name": "stdout",
     "output_type": "stream",
     "text": [
      "Accuracy [0.24173735 0.24173735 0.24173735 ... 0.75826265 0.75826265 0.24173735] c-value: 1.0 max_iter : 500\n",
      "Mean Accuracy: 0.805 (0.004)\n",
      "{'stat_par_diff': -0.20416048886477262, 'eq_opp_diff': -0.470203488372093, 'avg_odds_diff': -0.2950507237778832, 'bal_acc': 0.6121531923053463, 'disp_imp': 0.0}\n",
      "Accuracy [0.76162621 0.76162621 0.76162621 ... 0.76162621 0.76162621 0.76162621] c-value: 100000.0 max_iter : 1000\n",
      "Mean Accuracy: 0.804 (0.007)\n",
      "{'stat_par_diff': -0.19718017506175772, 'eq_opp_diff': -0.46546762589928065, 'avg_odds_diff': -0.28921065900721227, 'bal_acc': 0.6204324009084153, 'disp_imp': 0.0}\n",
      "Accuracy [0.23427903 0.76572097 0.76572097 ... 0.76572097 0.76572097 0.76572097] c-value: 0.001 max_iter : 2500\n",
      "Mean Accuracy: 0.802 (0.006)\n",
      "{'stat_par_diff': -0.18679627286080555, 'eq_opp_diff': -0.46691176470588236, 'avg_odds_diff': -0.2840474141088565, 'bal_acc': 0.6233388018621966, 'disp_imp': 0.0}\n",
      "Accuracy [0.75636151 0.24363849 0.75636151 ... 0.75636151 0.75636151 0.75636151] c-value: 1e-06 max_iter : 3500\n",
      "Mean Accuracy: 0.795 (0.005)\n",
      "{'stat_par_diff': -0.10406719978954, 'eq_opp_diff': -0.23946334802134212, 'avg_odds_diff': -0.1492444516783101, 'bal_acc': 0.6546647771145329, 'disp_imp': 0.5102627783983438}\n",
      "Accuracy [0.75515577 0.75515577 0.75515577 ... 0.75515577 0.75515577 0.75515577] c-value: 1000 max_iter : 5000\n",
      "Mean Accuracy: 0.804 (0.006)\n",
      "{'stat_par_diff': -0.189626138593419, 'eq_opp_diff': -0.4641080312722103, 'avg_odds_diff': -0.2822779439790354, 'bal_acc': 0.619696546604255, 'disp_imp': 0.0}\n"
     ]
    }
   ],
   "source": [
    "from sklearn.linear_model import LogisticRegression\n",
    "from sklearn.model_selection import KFold\n",
    "kf = KFold(n_splits=5, random_state=None, shuffle=False)\n",
    "\n",
    "i=0\n",
    "c = [1.0, 100000., 0.001, 0.000001,1000]\n",
    "max_iter = [ 500,1000,2500,3500,5000 ]\n",
    "# penalty = ['l1', 'l2', 'elasticnet', 'none']\n",
    "# enumerate splits\n",
    "x_train_np = np.array(X_train)\n",
    "y_train_np = np.array(y_train)\n",
    "for train_ix, test_ix in kf.split(X_train):\n",
    "    x_tr, x_test = x_train_np[train_ix], x_train_np[test_ix]\n",
    "    y_tr, y_test = y_train_np[train_ix], y_train_np[test_ix]\n",
    "    RW = Reweighing(unprivileged_groups=unprivileged_groups,\n",
    "                privileged_groups=privileged_groups)\n",
    "    train = RW.fit_transform(train)\n",
    "    model = LogisticRegression(solver='liblinear', random_state=1,max_iter = max_iter[i], C = c[i])\n",
    "    model.fit(x_tr, y_tr.ravel())\n",
    "    preds = model.predict(x_test)\n",
    "    test_pred = train.copy().subset(test_ix)\n",
    "    test_pred.labels = preds\n",
    "#     results = a accuracy_score(y_true, y_pred, normalize=False)\n",
    "    print(\"Accuracy\", sum(preds==y_test)/len(y_test),\"c-value:\",c[i], \"max_iter :\" ,max_iter[i] )\n",
    "    scores = cross_val_score(model, x_tr, y_tr.ravel(), scoring='accuracy', cv=kf, n_jobs=-1)\n",
    "    print('Mean Accuracy: %.3f (%.3f)' % (mean(scores), std(scores)))\n",
    "    metric = ClassificationMetric(train.subset(test_ix), test_pred, unprivileged_groups=unprivileged_groups, privileged_groups=privileged_groups)\n",
    "    metric_arrs = {}\n",
    "    metric_arrs['stat_par_diff']=(metric.statistical_parity_difference())\n",
    "    metric_arrs['eq_opp_diff']=(metric.equal_opportunity_difference())\n",
    "    metric_arrs['avg_odds_diff']=(metric.average_odds_difference())\n",
    "    metric_arrs['bal_acc']=((metric.true_positive_rate() + metric.true_negative_rate()) / 2)\n",
    "    metric_arrs['disp_imp']=(metric.disparate_impact())\n",
    "    print(metric_arrs)\n",
    "    i+=1"
   ]
  },
  {
   "cell_type": "code",
   "execution_count": 371,
   "id": "133bdbac",
   "metadata": {},
   "outputs": [
    {
     "name": "stdout",
     "output_type": "stream",
     "text": [
      "Accuracy [0.75515577 0.24484423 0.75515577 ... 0.24484423 0.75515577 0.24484423]\n",
      "Mean Accuracy: 0.804 (0.004)\n",
      "{'stat_par_diff': -0.20557244174265452, 'eq_opp_diff': -0.4414141414141414, 'avg_odds_diff': -0.27273605621431707, 'bal_acc': 0.657262071666589, 'disp_imp': 0.0}\n"
     ]
    }
   ],
   "source": [
    "learner = LogisticRegression(solver='liblinear', random_state=1, max_iter = 5000, C = 1000)  \n",
    "learner.fit(X_train,y_train.ravel())\n",
    "predictions = learner.predict(X_test)\n",
    "\n",
    "test_pred = test.copy()\n",
    "test_pred.labels = predictions\n",
    "print(\"Accuracy\", sum(predictions==y_test)/len(y_test))\n",
    "scores = cross_val_score(learner, X_train, y_train.ravel(), scoring='accuracy', cv=cv, n_jobs=-1)\n",
    "print('Mean Accuracy: %.3f (%.3f)' % (mean(scores), std(scores)))\n",
    "metric = ClassificationMetric(test, test_pred, unprivileged_groups=unprivileged_groups, privileged_groups=privileged_groups)\n",
    "metric_arrs = {}\n",
    "metric_arrs['stat_par_diff']=(metric.statistical_parity_difference())\n",
    "metric_arrs['eq_opp_diff']=(metric.equal_opportunity_difference())\n",
    "metric_arrs['avg_odds_diff']=(metric.average_odds_difference())\n",
    "metric_arrs['bal_acc']=((metric.true_positive_rate() + metric.true_negative_rate()) / 2)\n",
    "metric_arrs['disp_imp']=(metric.disparate_impact())\n",
    "print(metric_arrs)"
   ]
  },
  {
   "cell_type": "code",
   "execution_count": null,
   "id": "6e79e1da",
   "metadata": {},
   "outputs": [],
   "source": []
  }
 ],
 "metadata": {
  "kernelspec": {
   "display_name": "Python 3",
   "language": "python",
   "name": "python3"
  },
  "language_info": {
   "codemirror_mode": {
    "name": "ipython",
    "version": 3
   },
   "file_extension": ".py",
   "mimetype": "text/x-python",
   "name": "python",
   "nbconvert_exporter": "python",
   "pygments_lexer": "ipython3",
   "version": "3.8.8"
  }
 },
 "nbformat": 4,
 "nbformat_minor": 5
}
